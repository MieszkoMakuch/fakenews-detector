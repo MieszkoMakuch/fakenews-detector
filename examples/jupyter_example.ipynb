{
 "cells": [
  {
   "cell_type": "code",
   "execution_count": 2,
   "metadata": {
    "collapsed": true
   },
   "outputs": [],
   "source": [
    "from fakenews_detector.main import check_news, info_to_str"
   ]
  },
  {
   "cell_type": "code",
   "execution_count": 3,
   "metadata": {},
   "outputs": [
    {
     "name": "stdout",
     "output_type": "stream",
     "text": [
      "Checking domain: 100percentfedup.com\nSource: OpenSource http://www.opensources.co/\n\tVerdict1: Fake\n\t\tCategory: bias\n\t\tDescription: Extreme Bias - Sources that come from a particular point of view and may rely on propaganda, decontextualized information, and opinions distorted as facts.\nChecking domain: 100percentfedup.com\nSource: FakeNewsDB\n\tVerdict1: Warning\n\t\tCategory: clickbait\n\t\tDescription: Clickbait - Sources that provide generally credible content, but use exaggerated, misleading, or questionable headlines, social media descriptions, and/or images.\n\t\tSource note 1: Political alignment: right\n\n"
     ]
    }
   ],
   "source": [
    "# Some page with fake news\n",
    "url_100PercentFedUp = 'http://100percentfedup.com/comedian-kathy-griffins-7th-final-venue-cancelswhos-laughing-now/'\n",
    "print(info_to_str(check_news(url_100PercentFedUp)))"
   ]
  },
  {
   "cell_type": "code",
   "execution_count": 7,
   "metadata": {},
   "outputs": [
    {
     "name": "stdout",
     "output_type": "stream",
     "text": [
      "Checking domain: ancient-code.com\nSource: OpenSource http://www.opensources.co/\n\tVerdict1: Fake\n\t\tCategory: junksci\n\t\tDescription: Junk Science - Sources that promote pseudoscience, metaphysics, naturalistic fallacies, and other scientifically dubious claims.\n\tVerdict2: Warning\n\t\tCategory: unreliable\n\t\tDescription: Proceed With Caution - Sources that may be reliable but whose contents require further verification.\nChecking domain: ancient-code.com\nSource: Artificial intelligence\n\tVerdict1: Real\n\t\tCategory: Real News\n\t\tDescription: Analysis performed by artificial intelligence indicate that this article is credible\n\t\tSource note 1: WARNING: This result may be inaccurate! This domain wasn't categorised on any human maintained list thus analysis was performed by machine learning module.\n\n"
     ]
    }
   ],
   "source": [
    "# Some page with junk science\n",
    "url_ancient_code = 'http://www.ancient-code.com/did-ancient-mankind-know-the-secrets-of-levitation/'\n",
    "print(info_to_str(check_news(url_ancient_code)))"
   ]
  },
  {
   "cell_type": "code",
   "execution_count": 8,
   "metadata": {},
   "outputs": [
    {
     "name": "stdout",
     "output_type": "stream",
     "text": [
      "Checking domain: bbc.com\nSource: OpenSource http://www.opensources.co/\n\tVerdict1: Real\n\t\tCategory: reliable\n\t\tDescription: Credible - Sources that circulate news and information in a manner consistent with traditional and ethical practices in journalism (Remember: even credible sources sometimes rely on clickbait-style headlines or occasionally make mistakes. No news organization is perfect, which is why a healthy news diet consists of multiple sources of information).\nChecking domain: bbc.com\nSource: Artificial intelligence\n\tVerdict1: Real\n\t\tCategory: Real News\n\t\tDescription: Analysis performed by artificial intelligence indicate that this article is credible\n\t\tSource note 1: WARNING: This result may be inaccurate! This domain wasn't categorised on any human maintained list thus analysis was performed by machine learning module.\n\n"
     ]
    }
   ],
   "source": [
    "# Credible source\n",
    "url_bbc = 'http://www.bbc.com/news/uk-40148737'\n",
    "print(info_to_str(check_news(url_bbc)))"
   ]
  },
  {
   "cell_type": "code",
   "execution_count": null,
   "metadata": {},
   "outputs": [],
   "source": [
    ""
   ]
  }
 ],
 "metadata": {
  "kernelspec": {
   "display_name": "Python 2",
   "language": "python",
   "name": "python2"
  },
  "language_info": {
   "codemirror_mode": {
    "name": "ipython",
    "version": 2.0
   },
   "file_extension": ".py",
   "mimetype": "text/x-python",
   "name": "python",
   "nbconvert_exporter": "python",
   "pygments_lexer": "ipython2",
   "version": "2.7.6"
  }
 },
 "nbformat": 4,
 "nbformat_minor": 0
}